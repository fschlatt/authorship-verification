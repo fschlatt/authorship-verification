{
 "cells": [
  {
   "cell_type": "code",
   "execution_count": 1,
   "metadata": {},
   "outputs": [],
   "source": [
    "from joblib import load\n",
    "import numpy as np"
   ]
  },
  {
   "cell_type": "code",
   "execution_count": 2,
   "metadata": {},
   "outputs": [
    {
     "name": "stderr",
     "output_type": "stream",
     "text": [
      "/home/fschlatt/anaconda3/envs/ds/lib/python3.12/site-packages/sklearn/base.py:376: InconsistentVersionWarning: Trying to unpickle estimator TfidfTransformer from version 1.2.2 when using version 1.4.2. This might lead to breaking code or invalid results. Use at your own risk. For more info please refer to:\n",
      "https://scikit-learn.org/stable/model_persistence.html#security-maintainability-limitations\n",
      "  warnings.warn(\n",
      "/home/fschlatt/anaconda3/envs/ds/lib/python3.12/site-packages/sklearn/base.py:376: InconsistentVersionWarning: Trying to unpickle estimator TfidfVectorizer from version 1.2.2 when using version 1.4.2. This might lead to breaking code or invalid results. Use at your own risk. For more info please refer to:\n",
      "https://scikit-learn.org/stable/model_persistence.html#security-maintainability-limitations\n",
      "  warnings.warn(\n",
      "/home/fschlatt/anaconda3/envs/ds/lib/python3.12/site-packages/sklearn/base.py:376: InconsistentVersionWarning: Trying to unpickle estimator MultinomialNB from version 1.2.2 when using version 1.4.2. This might lead to breaking code or invalid results. Use at your own risk. For more info please refer to:\n",
      "https://scikit-learn.org/stable/model_persistence.html#security-maintainability-limitations\n",
      "  warnings.warn(\n",
      "/home/fschlatt/anaconda3/envs/ds/lib/python3.12/site-packages/sklearn/base.py:376: InconsistentVersionWarning: Trying to unpickle estimator Pipeline from version 1.2.2 when using version 1.4.2. This might lead to breaking code or invalid results. Use at your own risk. For more info please refer to:\n",
      "https://scikit-learn.org/stable/model_persistence.html#security-maintainability-limitations\n",
      "  warnings.warn(\n"
     ]
    }
   ],
   "source": [
    "model = load('./naive-bayes/model.joblib')"
   ]
  },
  {
   "cell_type": "code",
   "execution_count": 3,
   "metadata": {},
   "outputs": [],
   "source": [
    "vectorizer = model.get_params()[\"vectorizer\"]\n",
    "classifier = model.get_params()[\"classifier\"]"
   ]
  },
  {
   "cell_type": "code",
   "execution_count": 4,
   "metadata": {},
   "outputs": [
    {
     "name": "stdout",
     "output_type": "stream",
     "text": [
      "told: 1.94\n",
      "article: -1.88\n",
      "importance: -1.73\n",
      "emphasized: -1.58\n",
      "conclusion: -1.57\n",
      "stating: -1.53\n",
      "headline: -1.44\n",
      "wednesday: 1.40\n",
      "underscores: -1.39\n",
      "highlights: -1.39\n",
      "emphasizing: -1.38\n",
      "because: 1.37\n",
      "challenges: -1.34\n",
      "highlighting: -1.34\n",
      "significant: -1.33\n",
      "says: 1.32\n",
      "commitment: -1.31\n",
      "measures: -1.29\n",
      "reminder: -1.29\n",
      "thursday: 1.29\n",
      "expressed: -1.28\n",
      "highlighted: -1.28\n",
      "you: 1.27\n",
      "implications: -1.26\n",
      "amidst: -1.26\n",
      "stated: -1.23\n",
      "wrote: 1.22\n",
      "emphasizes: -1.21\n",
      "say: 1.19\n",
      "ensure: -1.19\n",
      "so: 1.19\n",
      "resilience: -1.19\n",
      "legacy: -1.17\n",
      "testament: -1.16\n",
      "really: 1.15\n",
      "despite: -1.13\n",
      "tuesday: 1.12\n",
      "monday: 1.12\n",
      "unwavering: -1.11\n",
      "points: -1.11\n"
     ]
    }
   ],
   "source": [
    "diff = classifier.feature_log_prob_[0] - classifier.feature_log_prob_[1]\n",
    "largest_diff = np.abs(diff).argsort()[::-1]\n",
    "words = vectorizer.get_feature_names_out()[largest_diff[:40]].tolist()\n",
    "diffs = diff[largest_diff[:40]].tolist()\n",
    "for word, diff in zip(words, diffs):\n",
    "    print(f\"{word}: {diff:.2f}\")"
   ]
  },
  {
   "cell_type": "code",
   "execution_count": 5,
   "metadata": {},
   "outputs": [
    {
     "name": "stderr",
     "output_type": "stream",
     "text": [
      "/home/fschlatt/anaconda3/envs/ds/lib/python3.12/site-packages/sklearn/base.py:376: InconsistentVersionWarning: Trying to unpickle estimator LogisticRegression from version 1.2.2 when using version 1.4.2. This might lead to breaking code or invalid results. Use at your own risk. For more info please refer to:\n",
      "https://scikit-learn.org/stable/model_persistence.html#security-maintainability-limitations\n",
      "  warnings.warn(\n"
     ]
    }
   ],
   "source": [
    "model = load('./logistic/model.joblib')"
   ]
  },
  {
   "cell_type": "code",
   "execution_count": 6,
   "metadata": {},
   "outputs": [],
   "source": [
    "vectorizer = model.get_params()[\"vectorizer\"]\n",
    "classifier = model.get_params()[\"classifier\"]"
   ]
  },
  {
   "cell_type": "code",
   "execution_count": 7,
   "metadata": {},
   "outputs": [
    {
     "data": {
      "text/plain": [
       "[['efforts',\n",
       "  'need',\n",
       "  'concerns',\n",
       "  'potential',\n",
       "  'stated',\n",
       "  'conclusion',\n",
       "  'ensure',\n",
       "  'stating',\n",
       "  'actions',\n",
       "  'emphasized',\n",
       "  'challenges',\n",
       "  'expressed',\n",
       "  'incident',\n",
       "  'however',\n",
       "  'despite',\n",
       "  'safety',\n",
       "  'importance',\n",
       "  'article',\n",
       "  'has',\n",
       "  'significant']]"
      ]
     },
     "execution_count": 7,
     "metadata": {},
     "output_type": "execute_result"
    }
   ],
   "source": [
    "vectorizer.get_feature_names_out()[classifier.coef_.argsort(axis=1)[:, -20:]].tolist()"
   ]
  }
 ],
 "metadata": {
  "kernelspec": {
   "display_name": "ds",
   "language": "python",
   "name": "python3"
  },
  "language_info": {
   "codemirror_mode": {
    "name": "ipython",
    "version": 3
   },
   "file_extension": ".py",
   "mimetype": "text/x-python",
   "name": "python",
   "nbconvert_exporter": "python",
   "pygments_lexer": "ipython3",
   "version": "3.12.2"
  }
 },
 "nbformat": 4,
 "nbformat_minor": 2
}
